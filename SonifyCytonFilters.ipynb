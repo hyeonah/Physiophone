{
 "cells": [
  {
   "cell_type": "code",
   "execution_count": 1,
   "metadata": {},
   "outputs": [
    {
     "name": "stdout",
     "output_type": "stream",
     "text": [
      "\n",
      "WxPython is not found for the current python version.\n",
      "Pyo will use a minimal GUI toolkit written with Tkinter (if available).\n",
      "This toolkit has limited functionnalities and is no more\n",
      "maintained or updated. If you want to use all of pyo's\n",
      "GUI features, you should install WxPython, available here:\n",
      "http://www.wxpython.org/\n",
      "\n"
     ]
    }
   ],
   "source": [
    "import brainflow\n",
    "import numpy as np\n",
    "from brainflow.board_shim import BoardShim, BrainFlowInputParams\n",
    "import time\n",
    "from scipy import signal\n",
    "import pyo as p\n",
    "import threading\n",
    "from ipywidgets import interact"
   ]
  },
  {
   "cell_type": "code",
   "execution_count": 2,
   "metadata": {},
   "outputs": [],
   "source": [
    "def bandpass(start, stop, data, fs = 250, z=None):\n",
    "    bp_Hz = np.array([start, stop])\n",
    "    b, a = signal.butter(2, bp_Hz / (fs / 2.0), btype='bandpass')\n",
    "    if isinstance(z,np.ndarray):\n",
    "        zi = z\n",
    "    else:\n",
    "        zi = signal.lfilter_zi(b, a)\n",
    "    return signal.lfilter(b, a, data, zi =zi, axis=0)"
   ]
  },
  {
   "cell_type": "code",
   "execution_count": 3,
   "metadata": {},
   "outputs": [],
   "source": [
    "def bandstop(start, stop, data, fs = 250, z=None):\n",
    "    bp_Hz = np.array([start, stop])\n",
    "    b, a = signal.butter(2, bp_Hz / (fs / 2.0), btype='bandstop')\n",
    "    if isinstance(z,np.ndarray):\n",
    "        zi = z\n",
    "    else:\n",
    "        zi = signal.lfilter_zi(b, a)\n",
    "    return signal.lfilter(b, a, data, zi =zi, axis=0)"
   ]
  },
  {
   "cell_type": "code",
   "execution_count": 4,
   "metadata": {},
   "outputs": [],
   "source": [
    "class StreamFilter():\n",
    "    def __init__(self, size=1, lcf = 2, hcf = 50, fs=250):\n",
    "        self.buffer = np.array([0.0 for _ in range(size)])\n",
    "        self.lcf = lcf\n",
    "        self.hcf = hcf\n",
    "        self.fs = fs\n",
    "        self.zi_bp = None\n",
    "        self.zi_bs = None\n",
    "#         self.zi_hf = None\n",
    "    def run(self,x):\n",
    "        self.buffer = np.roll(self.buffer,-1)\n",
    "        self.buffer[-1] = x\n",
    "        y,z_bs = bandstop(60-3,60+3,self.buffer, self.fs, self.zi_bs)\n",
    "        self.zi_bs = z_bs\n",
    "        y,z_bp = bandpass(self.lcf,self.hcf,y, self.fs, self.zi_bp)\n",
    "        self.zi_bp = z_bp\n",
    "        return y[-1]\n",
    "    \n",
    "    def update(self, lcf=None, hcf=None, fs=None ):\n",
    "        if lcf:\n",
    "            self.lcf = lcf\n",
    "        if hcf:\n",
    "            self.hcf = hcf\n",
    "        if fs:\n",
    "            self.fs = fs"
   ]
  },
  {
   "cell_type": "code",
   "execution_count": 5,
   "metadata": {},
   "outputs": [],
   "source": [
    "def start_board():\n",
    "    params = BrainFlowInputParams ()\n",
    "    params.serial_port = 'COM3'\n",
    "    board = BoardShim(0,params)\n",
    "    board.prepare_session ()\n",
    "    board.start_stream (2)\n",
    "    return board"
   ]
  },
  {
   "cell_type": "code",
   "execution_count": 6,
   "metadata": {},
   "outputs": [],
   "source": [
    "def start_audio():\n",
    "    s = p.Server(nchnls=1, sr=150000, buffersize=1024).boot()\n",
    "    \n",
    "    # sinusoidal oscillator (uncomment the line below and comment out the lines below it)\n",
    "#     osc = p.SineLoop(freq=1).out()\n",
    "\n",
    "    # filtered noise\n",
    "    n = p.PinkNoise()\n",
    "    osc = p.ButBP(n,q=10).out()\n",
    "    \n",
    "    \n",
    "    \n",
    "    #uncomment the lines below to record the audio in a wav file\n",
    "#     s.recordOptions(dur=20, filename=\"./recording,wav\", fileformat=0, sampletype=1)\n",
    "#     s.recstart()\n",
    "\n",
    "    s.start()\n",
    "    return s,osc"
   ]
  },
  {
   "cell_type": "code",
   "execution_count": 7,
   "metadata": {},
   "outputs": [],
   "source": [
    "# sonification parameters\n",
    "a = 400\n",
    "b = 400\n",
    "c = 0\n",
    "def param_update(A = a, B = b, C=c):\n",
    "    global a,b,c\n",
    "    a = A\n",
    "    b = B\n",
    "    c = C\n",
    "#filter parameters\n",
    "lcf=2\n",
    "hcf=120\n",
    "fs=250\n",
    "\n",
    "def filter_update(LCF = lcf, HCF = hcf, FS = fs):\n",
    "    global ff\n",
    "    ff.update(lcf=LCF, hcf=HCF, fs=FS)"
   ]
  },
  {
   "cell_type": "code",
   "execution_count": 8,
   "metadata": {},
   "outputs": [],
   "source": [
    "# start the board, this will not create a sound. for the sound you need to run the cells below\n",
    "board = start_board()"
   ]
  },
  {
   "cell_type": "code",
   "execution_count": 9,
   "metadata": {},
   "outputs": [],
   "source": [
    "ff = StreamFilter(lcf=2, hcf=120, fs=250)\n",
    "raw = []\n",
    "recording = []\n",
    "\n",
    "def freq_update(r):\n",
    "    global a,b,c,q, ff\n",
    "    f = float(ff.run(r))\n",
    "    # uncomment the lines below to record the raw signal or the filtered signal (recording)\n",
    "#     raw.append(r) \n",
    "#     recording.append(f)\n",
    "    osc.freq = float(b * np.exp(min( f/a , 4 ))) + c\n",
    "\n",
    "def stream():\n",
    "    global s,osc, board\n",
    "    \n",
    "    channel = 5 # the channel from which you are recording (N5P). Don't forget you need a bias channel too. \n",
    "    \n",
    "    cd=board.get_current_board_data(1)[channel][0]\n",
    "    try:\n",
    "        while True:\n",
    "            # whenever the value of the current board data is changed, update the frequency of the oscillator\n",
    "            ncd=board.get_current_board_data(1)[channel][0]\n",
    "            if ncd!=cd:\n",
    "                cd = ncd\n",
    "                freq_update(cd)\n",
    "\n",
    "    except KeyboardInterrupt:\n",
    "        print(\"Press Ctrl-C to terminate while statement\")\n",
    "        s.stop()"
   ]
  },
  {
   "cell_type": "code",
   "execution_count": 10,
   "metadata": {},
   "outputs": [],
   "source": [
    "# start an oscillator\n",
    "s,osc = start_audio()"
   ]
  },
  {
   "cell_type": "code",
   "execution_count": 11,
   "metadata": {},
   "outputs": [],
   "source": [
    "# run to modulate the sound with the data from the board\n",
    "st = threading.Thread(target=stream, daemon=True)\n",
    "st.start()"
   ]
  },
  {
   "cell_type": "code",
   "execution_count": 12,
   "metadata": {},
   "outputs": [
    {
     "data": {
      "application/vnd.jupyter.widget-view+json": {
       "model_id": "d0e4fc39cc4a4f2abb4a9b13b0b8bd3a",
       "version_major": 2,
       "version_minor": 0
      },
      "text/plain": [
       "interactive(children=(FloatSlider(value=400.0, description='A', max=400.0, min=1.0), FloatSlider(value=400.0, …"
      ]
     },
     "metadata": {},
     "output_type": "display_data"
    }
   ],
   "source": [
    "# run to change the parameters of audio\n",
    "interact(param_update, A=(1,400,0.1), B=(200.,500.,0.1), C=(0,300,0.1));"
   ]
  },
  {
   "cell_type": "code",
   "execution_count": 13,
   "metadata": {},
   "outputs": [
    {
     "data": {
      "application/vnd.jupyter.widget-view+json": {
       "model_id": "b3ec81a8d3c44e28b1c7064c22f9a1ba",
       "version_major": 2,
       "version_minor": 0
      },
      "text/plain": [
       "interactive(children=(FloatSlider(value=2.0, description='LCF', max=124.0, min=0.1), FloatSlider(value=120.0, …"
      ]
     },
     "metadata": {},
     "output_type": "display_data"
    }
   ],
   "source": [
    "# run to change the filter parameters\n",
    "interact(filter_update, LCF=(0.1,124,0.1), HCF=(0.2,120,0.1), FS=(125,500,0.1));"
   ]
  },
  {
   "cell_type": "code",
   "execution_count": 32,
   "metadata": {},
   "outputs": [
    {
     "data": {
      "text/plain": [
       "[<matplotlib.lines.Line2D at 0x1b5f0ab6348>]"
      ]
     },
     "execution_count": 32,
     "metadata": {},
     "output_type": "execute_result"
    },
    {
     "data": {
      "image/png": "[encoded data removed]",
      "text/plain": [
       "<Figure size 432x288 with 1 Axes>"
      ]
     },
     "metadata": {
      "needs_background": "light"
     },
     "output_type": "display_data"
    }
   ],
   "source": [
    "# #to plot the recording you can use this\n",
    "# import matplotlib.pyplot as plt\n",
    "# plt.plot(recording[600:1000])"
   ]
  },
  {
   "cell_type": "code",
   "execution_count": null,
   "metadata": {},
   "outputs": [],
   "source": []
  },
  {
   "cell_type": "code",
   "execution_count": 33,
   "metadata": {},
   "outputs": [
    {
     "data": {
      "text/plain": [
       "[<matplotlib.lines.Line2D at 0x1b5f0b2dc08>]"
      ]
     },
     "execution_count": 33,
     "metadata": {},
     "output_type": "execute_result"
    },
    {
     "data": {
      "image/png": "[encoded data removed]",
      "text/plain": [
       "<Figure size 432x288 with 1 Axes>"
      ]
     },
     "metadata": {
      "needs_background": "light"
     },
     "output_type": "display_data"
    }
   ],
   "source": [
    "# plt.plot(raw[600:1000])"
   ]
  }
 ],
 "metadata": {
  "kernelspec": {
   "display_name": "Python 3",
   "language": "python",
   "name": "python3"
  },
  "language_info": {
   "codemirror_mode": {
    "name": "ipython",
    "version": 3
   },
   "file_extension": ".py",
   "mimetype": "text/x-python",
   "name": "python",
   "nbconvert_exporter": "python",
   "pygments_lexer": "ipython3",
   "version": "3.7.9"
  }
 },
 "nbformat": 4,
 "nbformat_minor": 4
}
